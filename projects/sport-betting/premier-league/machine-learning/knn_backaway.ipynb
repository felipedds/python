{
 "cells": [
  {
   "attachments": {},
   "cell_type": "markdown",
   "metadata": {},
   "source": [
    "<h4>Thesis</h4>\n",
    "<h6>These models try predict if the score of the home team(principal) is larger than the visitor team, utilizing KNN. <br>The variables X are: \"home_odds\", \"draw_odds\", \"away_odds\"<br>\n",
    "The variables Y are: \"back_away\"</h6>\n",
    "\n",
    "<h6>When the quantity of the score of the visitor team is larger than the home team(principal) then assign 1 to the field \"back_away\". When the quantity of the score of the visitor team is minus than of the home team(principal) then assign 0 to field \"back_away\".</h6>\n",
    "\n",
    "<h6>*The secret to increase the hit rate is to choose good variables. The better the variables the higher the hit rate will be.*</h6>\n",
    "\n",
    "<h5>Import dataset</h5>\n",
    "<h6>Importing the dataset from file .csv.</h6>"
   ]
  },
  {
   "cell_type": "code",
   "execution_count": 33,
   "metadata": {},
   "outputs": [
    {
     "data": {
      "text/html": [
       "<div>\n",
       "<style scoped>\n",
       "    .dataframe tbody tr th:only-of-type {\n",
       "        vertical-align: middle;\n",
       "    }\n",
       "\n",
       "    .dataframe tbody tr th {\n",
       "        vertical-align: top;\n",
       "    }\n",
       "\n",
       "    .dataframe thead th {\n",
       "        text-align: right;\n",
       "    }\n",
       "</style>\n",
       "<table border=\"1\" class=\"dataframe\">\n",
       "  <thead>\n",
       "    <tr style=\"text-align: right;\">\n",
       "      <th></th>\n",
       "      <th>league</th>\n",
       "      <th>date</th>\n",
       "      <th>home</th>\n",
       "      <th>away</th>\n",
       "      <th>home_odds</th>\n",
       "      <th>draw_odds</th>\n",
       "      <th>away_odds</th>\n",
       "      <th>home_goals_ft</th>\n",
       "      <th>away_goals_ft</th>\n",
       "    </tr>\n",
       "  </thead>\n",
       "  <tbody>\n",
       "    <tr>\n",
       "      <th>2506</th>\n",
       "      <td>Premier League</td>\n",
       "      <td>2023-02-18</td>\n",
       "      <td>Nott'm Forest</td>\n",
       "      <td>Man City</td>\n",
       "      <td>8.50</td>\n",
       "      <td>5.50</td>\n",
       "      <td>1.30</td>\n",
       "      <td>1</td>\n",
       "      <td>1</td>\n",
       "    </tr>\n",
       "    <tr>\n",
       "      <th>2507</th>\n",
       "      <td>Premier League</td>\n",
       "      <td>2023-02-18</td>\n",
       "      <td>Wolves</td>\n",
       "      <td>Bournemouth</td>\n",
       "      <td>1.67</td>\n",
       "      <td>3.60</td>\n",
       "      <td>6.00</td>\n",
       "      <td>0</td>\n",
       "      <td>1</td>\n",
       "    </tr>\n",
       "    <tr>\n",
       "      <th>2508</th>\n",
       "      <td>Premier League</td>\n",
       "      <td>2023-02-18</td>\n",
       "      <td>Newcastle</td>\n",
       "      <td>Liverpool</td>\n",
       "      <td>2.50</td>\n",
       "      <td>3.50</td>\n",
       "      <td>2.70</td>\n",
       "      <td>0</td>\n",
       "      <td>2</td>\n",
       "    </tr>\n",
       "    <tr>\n",
       "      <th>2509</th>\n",
       "      <td>Premier League</td>\n",
       "      <td>2023-02-19</td>\n",
       "      <td>Man United</td>\n",
       "      <td>Leicester</td>\n",
       "      <td>1.62</td>\n",
       "      <td>4.33</td>\n",
       "      <td>5.25</td>\n",
       "      <td>3</td>\n",
       "      <td>0</td>\n",
       "    </tr>\n",
       "    <tr>\n",
       "      <th>2510</th>\n",
       "      <td>Premier League</td>\n",
       "      <td>2023-02-19</td>\n",
       "      <td>Tottenham</td>\n",
       "      <td>West Ham</td>\n",
       "      <td>1.75</td>\n",
       "      <td>3.60</td>\n",
       "      <td>4.75</td>\n",
       "      <td>2</td>\n",
       "      <td>0</td>\n",
       "    </tr>\n",
       "  </tbody>\n",
       "</table>\n",
       "</div>"
      ],
      "text/plain": [
       "              league       date           home         away  home_odds  \\\n",
       "2506  Premier League 2023-02-18  Nott'm Forest     Man City       8.50   \n",
       "2507  Premier League 2023-02-18         Wolves  Bournemouth       1.67   \n",
       "2508  Premier League 2023-02-18      Newcastle    Liverpool       2.50   \n",
       "2509  Premier League 2023-02-19     Man United    Leicester       1.62   \n",
       "2510  Premier League 2023-02-19      Tottenham     West Ham       1.75   \n",
       "\n",
       "      draw_odds  away_odds  home_goals_ft  away_goals_ft  \n",
       "2506       5.50       1.30              1              1  \n",
       "2507       3.60       6.00              0              1  \n",
       "2508       3.50       2.70              0              2  \n",
       "2509       4.33       5.25              3              0  \n",
       "2510       3.60       4.75              2              0  "
      ]
     },
     "execution_count": 33,
     "metadata": {},
     "output_type": "execute_result"
    }
   ],
   "source": [
    "import numpy as np\n",
    "import pandas as pd\n",
    "import matplotlib.pyplot as plt\n",
    "from sklearn.metrics import classification_report, confusion_matrix, accuracy_score, precision_score\n",
    "from sklearn.model_selection import train_test_split\n",
    "from sklearn.neighbors import KNeighborsClassifier\n",
    "from sklearn.preprocessing import StandardScaler, LabelEncoder\n",
    "import warnings\n",
    "\n",
    "pd.set_option(\"display.min_rows\", 200)\n",
    "pd.set_option(\"display.max_rows\", 600)\n",
    "pd.set_option(\"display.max_columns\", 100)\n",
    "\n",
    "# Premier League - England\n",
    "premier_league_2016_2017 = pd.read_csv(\"https://www.football-data.co.uk/mmz4281/1617/E0.csv\")\n",
    "premier_league_2017_2018 = pd.read_csv(\"https://www.football-data.co.uk/mmz4281/1718/E0.csv\")\n",
    "premier_league_2018_2019 = pd.read_csv(\"https://www.football-data.co.uk/mmz4281/1819/E0.csv\")\n",
    "premier_league_2019_2020 = pd.read_csv(\"https://www.football-data.co.uk/mmz4281/1920/E0.csv\")\n",
    "premier_league_2020_2021 = pd.read_csv(\"https://www.football-data.co.uk/mmz4281/2021/E0.csv\")\n",
    "premier_league_2021_2022 = pd.read_csv(\"https://www.football-data.co.uk/mmz4281/2122/E0.csv\")\n",
    "premier_league_2022_2023 = pd.read_csv(\"https://www.football-data.co.uk/mmz4281/2223/E0.csv\")\n",
    "\n",
    "df = pd.concat([premier_league_2016_2017, premier_league_2017_2018, premier_league_2018_2019, premier_league_2019_2020, premier_league_2020_2021, premier_league_2021_2022, premier_league_2022_2023], axis=0, ignore_index=True)\n",
    "#df = pd.concat([premier_league_2021_2022, premier_league_2022_2023], axis=0, ignore_index=True)\n",
    "df[\"League\"] = \"Premier League\"\n",
    "df = df[[\"League\", \"Date\", \"HomeTeam\", \"AwayTeam\", \"B365H\", \"B365D\", \"B365A\", \"FTHG\", \"FTAG\"]]\n",
    "df.columns = [\"league\", \"date\", \"home\", \"away\", \"home_odds\", \"draw_odds\", \"away_odds\", \"home_goals_ft\", \"away_goals_ft\"]\n",
    "df = df.astype({\"date\":\"datetime64\"})\n",
    "df.dropna(inplace=True)\n",
    "df = df.convert_dtypes(infer_objects=True)\n",
    "df.reset_index(inplace=True, drop=True)\n",
    "df.tail()"
   ]
  },
  {
   "attachments": {},
   "cell_type": "markdown",
   "metadata": {},
   "source": [
    "<h5>Feature Engineering and Preprocessing</h5>\n",
    "<h6>When the quantity of the score of the home team(principal) is larger than the visitor team then assign 0 to the field \"lay_home\". When the quantity of the score of the visitor team is minus than of the home team(principal) then assign 1 to field \"lay_home\".</h6>"
   ]
  },
  {
   "cell_type": "code",
   "execution_count": 34,
   "metadata": {},
   "outputs": [
    {
     "data": {
      "text/html": [
       "<div>\n",
       "<style scoped>\n",
       "    .dataframe tbody tr th:only-of-type {\n",
       "        vertical-align: middle;\n",
       "    }\n",
       "\n",
       "    .dataframe tbody tr th {\n",
       "        vertical-align: top;\n",
       "    }\n",
       "\n",
       "    .dataframe thead th {\n",
       "        text-align: right;\n",
       "    }\n",
       "</style>\n",
       "<table border=\"1\" class=\"dataframe\">\n",
       "  <thead>\n",
       "    <tr style=\"text-align: right;\">\n",
       "      <th></th>\n",
       "      <th>league</th>\n",
       "      <th>date</th>\n",
       "      <th>home</th>\n",
       "      <th>away</th>\n",
       "      <th>home_odds</th>\n",
       "      <th>draw_odds</th>\n",
       "      <th>away_odds</th>\n",
       "      <th>home_goals_ft</th>\n",
       "      <th>away_goals_ft</th>\n",
       "      <th>back_away</th>\n",
       "    </tr>\n",
       "  </thead>\n",
       "  <tbody>\n",
       "    <tr>\n",
       "      <th>2506</th>\n",
       "      <td>Premier League</td>\n",
       "      <td>2023-02-18</td>\n",
       "      <td>Nott'm Forest</td>\n",
       "      <td>Man City</td>\n",
       "      <td>8.50</td>\n",
       "      <td>5.50</td>\n",
       "      <td>1.30</td>\n",
       "      <td>1</td>\n",
       "      <td>1</td>\n",
       "      <td>0.0</td>\n",
       "    </tr>\n",
       "    <tr>\n",
       "      <th>2507</th>\n",
       "      <td>Premier League</td>\n",
       "      <td>2023-02-18</td>\n",
       "      <td>Wolves</td>\n",
       "      <td>Bournemouth</td>\n",
       "      <td>1.67</td>\n",
       "      <td>3.60</td>\n",
       "      <td>6.00</td>\n",
       "      <td>0</td>\n",
       "      <td>1</td>\n",
       "      <td>1.0</td>\n",
       "    </tr>\n",
       "    <tr>\n",
       "      <th>2508</th>\n",
       "      <td>Premier League</td>\n",
       "      <td>2023-02-18</td>\n",
       "      <td>Newcastle</td>\n",
       "      <td>Liverpool</td>\n",
       "      <td>2.50</td>\n",
       "      <td>3.50</td>\n",
       "      <td>2.70</td>\n",
       "      <td>0</td>\n",
       "      <td>2</td>\n",
       "      <td>1.0</td>\n",
       "    </tr>\n",
       "    <tr>\n",
       "      <th>2509</th>\n",
       "      <td>Premier League</td>\n",
       "      <td>2023-02-19</td>\n",
       "      <td>Man United</td>\n",
       "      <td>Leicester</td>\n",
       "      <td>1.62</td>\n",
       "      <td>4.33</td>\n",
       "      <td>5.25</td>\n",
       "      <td>3</td>\n",
       "      <td>0</td>\n",
       "      <td>0.0</td>\n",
       "    </tr>\n",
       "    <tr>\n",
       "      <th>2510</th>\n",
       "      <td>Premier League</td>\n",
       "      <td>2023-02-19</td>\n",
       "      <td>Tottenham</td>\n",
       "      <td>West Ham</td>\n",
       "      <td>1.75</td>\n",
       "      <td>3.60</td>\n",
       "      <td>4.75</td>\n",
       "      <td>2</td>\n",
       "      <td>0</td>\n",
       "      <td>0.0</td>\n",
       "    </tr>\n",
       "  </tbody>\n",
       "</table>\n",
       "</div>"
      ],
      "text/plain": [
       "              league       date           home         away  home_odds  \\\n",
       "2506  Premier League 2023-02-18  Nott'm Forest     Man City       8.50   \n",
       "2507  Premier League 2023-02-18         Wolves  Bournemouth       1.67   \n",
       "2508  Premier League 2023-02-18      Newcastle    Liverpool       2.50   \n",
       "2509  Premier League 2023-02-19     Man United    Leicester       1.62   \n",
       "2510  Premier League 2023-02-19      Tottenham     West Ham       1.75   \n",
       "\n",
       "      draw_odds  away_odds  home_goals_ft  away_goals_ft  back_away  \n",
       "2506       5.50       1.30              1              1        0.0  \n",
       "2507       3.60       6.00              0              1        1.0  \n",
       "2508       3.50       2.70              0              2        1.0  \n",
       "2509       4.33       5.25              3              0        0.0  \n",
       "2510       3.60       4.75              2              0        0.0  "
      ]
     },
     "execution_count": 34,
     "metadata": {},
     "output_type": "execute_result"
    }
   ],
   "source": [
    "df.loc[(df[\"home_goals_ft\"] < df[\"away_goals_ft\"]), \"back_away\"] = 1\n",
    "df.loc[(df[\"home_goals_ft\"] >= df[\"away_goals_ft\"]), \"back_away\"] = 0\n",
    "df.head()"
   ]
  },
  {
   "attachments": {},
   "cell_type": "markdown",
   "metadata": {},
   "source": [
    "<h5>Defining X and Y</h5>"
   ]
  },
  {
   "cell_type": "code",
   "execution_count": 35,
   "metadata": {},
   "outputs": [],
   "source": [
    "X = df.loc[:, [\"home_odds\", \"draw_odds\", \"away_odds\"]]\n",
    "y = df.loc[:, \"back_away\"]"
   ]
  },
  {
   "attachments": {},
   "cell_type": "markdown",
   "metadata": {},
   "source": [
    "<h5>Pre processing (Standard Scaler)</h5>"
   ]
  },
  {
   "cell_type": "code",
   "execution_count": 36,
   "metadata": {},
   "outputs": [],
   "source": [
    "std = StandardScaler()\n",
    "X = std.fit_transform(X)"
   ]
  },
  {
   "attachments": {},
   "cell_type": "markdown",
   "metadata": {},
   "source": [
    "<h5>Split Train and Test</h5>"
   ]
  },
  {
   "cell_type": "code",
   "execution_count": 37,
   "metadata": {},
   "outputs": [
    {
     "name": "stdout",
     "output_type": "stream",
     "text": [
      "(1883, 3) (628, 3) (1883,) (628,)\n",
      "[[-0.26958056 -0.66173725 -0.36323789]\n",
      " [-0.4338339  -0.66173725 -0.09386176]\n",
      " [ 0.05892613 -0.59581504 -0.54641366]\n",
      " ...\n",
      " [-0.22851722 -0.52989282 -0.48176339]\n",
      " [-0.58987458  0.01726159  0.06776392]\n",
      " [-0.53649224 -0.4639706  -0.03998653]]\n"
     ]
    }
   ],
   "source": [
    "X_train, X_test, y_train, y_test = train_test_split(X, y, test_size=0.25, random_state=1)\n",
    "print(X_train.shape, X_test.shape, y_train.shape, y_test.shape)\n",
    "print(X)"
   ]
  },
  {
   "attachments": {},
   "cell_type": "markdown",
   "metadata": {},
   "source": [
    "<h5>Train the Model</h5>"
   ]
  },
  {
   "cell_type": "code",
   "execution_count": 38,
   "metadata": {},
   "outputs": [
    {
     "data": {
      "text/plain": [
       "KNeighborsClassifier(n_neighbors=3)"
      ]
     },
     "execution_count": 38,
     "metadata": {},
     "output_type": "execute_result"
    }
   ],
   "source": [
    "knn = KNeighborsClassifier(n_neighbors=3, metric=\"minkowski\", p=2)\n",
    "knn.fit(X_train, y_train)"
   ]
  },
  {
   "attachments": {},
   "cell_type": "markdown",
   "metadata": {},
   "source": [
    "<h5>Evaluate the Model</h5>"
   ]
  },
  {
   "cell_type": "code",
   "execution_count": 39,
   "metadata": {},
   "outputs": [
    {
     "name": "stdout",
     "output_type": "stream",
     "text": [
      "Accuracy score (training): 0.8008497079129049\n",
      "Accuracy score (validation): 0.6640127388535032\n",
      "\n",
      "Confusion Matrix:\n",
      " [[334  90]\n",
      " [121  83]]\n",
      "\n",
      "Classification Report:\n",
      "               precision    recall  f1-score   support\n",
      "\n",
      "         0.0       0.73      0.79      0.76       424\n",
      "         1.0       0.48      0.41      0.44       204\n",
      "\n",
      "    accuracy                           0.66       628\n",
      "   macro avg       0.61      0.60      0.60       628\n",
      "weighted avg       0.65      0.66      0.66       628\n",
      "\n"
     ]
    }
   ],
   "source": [
    "y_predictions = knn.predict(X_test)\n",
    "\n",
    "print(f\"Accuracy score (training): {knn.score(X_train, y_train)}\")\n",
    "print(f\"Accuracy score (validation): {knn.score(X_test, y_test)}\\n\")\n",
    "print(f\"Confusion Matrix:\\n {confusion_matrix(y_test, y_predictions)}\\n\")\n",
    "print(f\"Classification Report:\\n {classification_report(y_test, y_predictions)}\")"
   ]
  },
  {
   "attachments": {},
   "cell_type": "markdown",
   "metadata": {},
   "source": [
    "<h5>Informations about model</h5>"
   ]
  },
  {
   "cell_type": "code",
   "execution_count": 40,
   "metadata": {},
   "outputs": [
    {
     "name": "stdout",
     "output_type": "stream",
     "text": [
      "Games that was predicted as been 0 and was 0: 334\n",
      "Games that was predicted as been 0 and was 1: 121\n",
      "Games that was predicted as been 1 and was 0: 90\n",
      "Games that was predicted as been 1 and was 1: 83\n",
      "Total Matches: 628\n",
      "Entry Games: 173\n",
      "Entry Tax: 27.55%\n",
      "Hit Rate: 47.98%\n"
     ]
    }
   ],
   "source": [
    "print(f\"Games that was predicted as been 0 and was 0: {confusion_matrix(y_test, y_predictions)[0][0]}\")\n",
    "print(f\"Games that was predicted as been 0 and was 1: {confusion_matrix(y_test, y_predictions)[1][0]}\")\n",
    "print(f\"Games that was predicted as been 1 and was 0: {confusion_matrix(y_test, y_predictions)[0][1]}\")\n",
    "print(f\"Games that was predicted as been 1 and was 1: {confusion_matrix(y_test, y_predictions)[1][1]}\")\n",
    "\n",
    "test_total_matches = confusion_matrix(y_test, y_predictions)[0][0] + \\\n",
    "                     confusion_matrix(y_test, y_predictions)[0][1] + \\\n",
    "                     confusion_matrix(y_test, y_predictions)[1][0] + \\\n",
    "                     confusion_matrix(y_test, y_predictions)[1][1]\n",
    "\n",
    "entry_games = confusion_matrix(y_test, y_predictions)[0][1] + confusion_matrix(y_test, y_predictions)[1][1]\n",
    "entry_tax = (entry_games / test_total_matches) * 100\n",
    "hit_rate = (confusion_matrix(y_test, y_predictions)[1][1] / entry_games) * 100\n",
    "\n",
    "print(f\"Total Matches: {test_total_matches}\")\n",
    "print(f\"Entry Games: {entry_games}\")\n",
    "print(f\"Entry Tax: {entry_tax.round(2)}%\")\n",
    "print(f\"Hit Rate: {hit_rate.round(2)}%\")"
   ]
  },
  {
   "attachments": {},
   "cell_type": "markdown",
   "metadata": {},
   "source": [
    "<h5>Backtest</h5>"
   ]
  },
  {
   "cell_type": "code",
   "execution_count": 41,
   "metadata": {},
   "outputs": [
    {
     "data": {
      "text/html": [
       "<div>\n",
       "<style scoped>\n",
       "    .dataframe tbody tr th:only-of-type {\n",
       "        vertical-align: middle;\n",
       "    }\n",
       "\n",
       "    .dataframe tbody tr th {\n",
       "        vertical-align: top;\n",
       "    }\n",
       "\n",
       "    .dataframe thead th {\n",
       "        text-align: right;\n",
       "    }\n",
       "</style>\n",
       "<table border=\"1\" class=\"dataframe\">\n",
       "  <thead>\n",
       "    <tr style=\"text-align: right;\">\n",
       "      <th></th>\n",
       "      <th>league</th>\n",
       "      <th>date</th>\n",
       "      <th>home</th>\n",
       "      <th>away</th>\n",
       "      <th>home_odds</th>\n",
       "      <th>draw_odds</th>\n",
       "      <th>away_odds</th>\n",
       "      <th>home_goals_ft</th>\n",
       "      <th>away_goals_ft</th>\n",
       "      <th>back_away</th>\n",
       "      <th>predictions</th>\n",
       "      <th>profit</th>\n",
       "      <th>profit_accumulated</th>\n",
       "    </tr>\n",
       "  </thead>\n",
       "  <tbody>\n",
       "    <tr>\n",
       "      <th>2495</th>\n",
       "      <td>Premier League</td>\n",
       "      <td>2023-11-02</td>\n",
       "      <td>Southampton</td>\n",
       "      <td>Wolves</td>\n",
       "      <td>2.90</td>\n",
       "      <td>3.20</td>\n",
       "      <td>2.55</td>\n",
       "      <td>1</td>\n",
       "      <td>2</td>\n",
       "      <td>1.0</td>\n",
       "      <td>1.0</td>\n",
       "      <td>1.55</td>\n",
       "      <td>311.06</td>\n",
       "    </tr>\n",
       "    <tr>\n",
       "      <th>2496</th>\n",
       "      <td>Premier League</td>\n",
       "      <td>2023-11-02</td>\n",
       "      <td>Bournemouth</td>\n",
       "      <td>Newcastle</td>\n",
       "      <td>6.50</td>\n",
       "      <td>4.00</td>\n",
       "      <td>1.53</td>\n",
       "      <td>1</td>\n",
       "      <td>1</td>\n",
       "      <td>0.0</td>\n",
       "      <td>1.0</td>\n",
       "      <td>-1.00</td>\n",
       "      <td>310.06</td>\n",
       "    </tr>\n",
       "    <tr>\n",
       "      <th>2497</th>\n",
       "      <td>Premier League</td>\n",
       "      <td>2023-12-02</td>\n",
       "      <td>Leeds</td>\n",
       "      <td>Man United</td>\n",
       "      <td>3.75</td>\n",
       "      <td>3.80</td>\n",
       "      <td>1.91</td>\n",
       "      <td>0</td>\n",
       "      <td>2</td>\n",
       "      <td>1.0</td>\n",
       "      <td>1.0</td>\n",
       "      <td>0.91</td>\n",
       "      <td>310.97</td>\n",
       "    </tr>\n",
       "    <tr>\n",
       "      <th>2500</th>\n",
       "      <td>Premier League</td>\n",
       "      <td>2023-02-15</td>\n",
       "      <td>Arsenal</td>\n",
       "      <td>Man City</td>\n",
       "      <td>2.90</td>\n",
       "      <td>3.50</td>\n",
       "      <td>2.35</td>\n",
       "      <td>1</td>\n",
       "      <td>3</td>\n",
       "      <td>1.0</td>\n",
       "      <td>1.0</td>\n",
       "      <td>1.35</td>\n",
       "      <td>312.32</td>\n",
       "    </tr>\n",
       "    <tr>\n",
       "      <th>2503</th>\n",
       "      <td>Premier League</td>\n",
       "      <td>2023-02-18</td>\n",
       "      <td>Brighton</td>\n",
       "      <td>Fulham</td>\n",
       "      <td>1.65</td>\n",
       "      <td>3.80</td>\n",
       "      <td>5.50</td>\n",
       "      <td>0</td>\n",
       "      <td>1</td>\n",
       "      <td>1.0</td>\n",
       "      <td>1.0</td>\n",
       "      <td>4.50</td>\n",
       "      <td>316.82</td>\n",
       "    </tr>\n",
       "    <tr>\n",
       "      <th>2504</th>\n",
       "      <td>Premier League</td>\n",
       "      <td>2023-02-18</td>\n",
       "      <td>Chelsea</td>\n",
       "      <td>Southampton</td>\n",
       "      <td>1.40</td>\n",
       "      <td>4.75</td>\n",
       "      <td>8.50</td>\n",
       "      <td>0</td>\n",
       "      <td>1</td>\n",
       "      <td>1.0</td>\n",
       "      <td>1.0</td>\n",
       "      <td>7.50</td>\n",
       "      <td>324.32</td>\n",
       "    </tr>\n",
       "    <tr>\n",
       "      <th>2505</th>\n",
       "      <td>Premier League</td>\n",
       "      <td>2023-02-18</td>\n",
       "      <td>Everton</td>\n",
       "      <td>Leeds</td>\n",
       "      <td>2.40</td>\n",
       "      <td>3.30</td>\n",
       "      <td>3.00</td>\n",
       "      <td>1</td>\n",
       "      <td>0</td>\n",
       "      <td>0.0</td>\n",
       "      <td>1.0</td>\n",
       "      <td>-1.00</td>\n",
       "      <td>323.32</td>\n",
       "    </tr>\n",
       "    <tr>\n",
       "      <th>2506</th>\n",
       "      <td>Premier League</td>\n",
       "      <td>2023-02-18</td>\n",
       "      <td>Nott'm Forest</td>\n",
       "      <td>Man City</td>\n",
       "      <td>8.50</td>\n",
       "      <td>5.50</td>\n",
       "      <td>1.30</td>\n",
       "      <td>1</td>\n",
       "      <td>1</td>\n",
       "      <td>0.0</td>\n",
       "      <td>1.0</td>\n",
       "      <td>-1.00</td>\n",
       "      <td>322.32</td>\n",
       "    </tr>\n",
       "    <tr>\n",
       "      <th>2508</th>\n",
       "      <td>Premier League</td>\n",
       "      <td>2023-02-18</td>\n",
       "      <td>Newcastle</td>\n",
       "      <td>Liverpool</td>\n",
       "      <td>2.50</td>\n",
       "      <td>3.50</td>\n",
       "      <td>2.70</td>\n",
       "      <td>0</td>\n",
       "      <td>2</td>\n",
       "      <td>1.0</td>\n",
       "      <td>1.0</td>\n",
       "      <td>1.70</td>\n",
       "      <td>324.02</td>\n",
       "    </tr>\n",
       "    <tr>\n",
       "      <th>2509</th>\n",
       "      <td>Premier League</td>\n",
       "      <td>2023-02-19</td>\n",
       "      <td>Man United</td>\n",
       "      <td>Leicester</td>\n",
       "      <td>1.62</td>\n",
       "      <td>4.33</td>\n",
       "      <td>5.25</td>\n",
       "      <td>3</td>\n",
       "      <td>0</td>\n",
       "      <td>0.0</td>\n",
       "      <td>1.0</td>\n",
       "      <td>-1.00</td>\n",
       "      <td>323.02</td>\n",
       "    </tr>\n",
       "  </tbody>\n",
       "</table>\n",
       "</div>"
      ],
      "text/plain": [
       "              league       date           home         away  home_odds  \\\n",
       "2495  Premier League 2023-11-02    Southampton       Wolves       2.90   \n",
       "2496  Premier League 2023-11-02    Bournemouth    Newcastle       6.50   \n",
       "2497  Premier League 2023-12-02          Leeds   Man United       3.75   \n",
       "2500  Premier League 2023-02-15        Arsenal     Man City       2.90   \n",
       "2503  Premier League 2023-02-18       Brighton       Fulham       1.65   \n",
       "2504  Premier League 2023-02-18        Chelsea  Southampton       1.40   \n",
       "2505  Premier League 2023-02-18        Everton        Leeds       2.40   \n",
       "2506  Premier League 2023-02-18  Nott'm Forest     Man City       8.50   \n",
       "2508  Premier League 2023-02-18      Newcastle    Liverpool       2.50   \n",
       "2509  Premier League 2023-02-19     Man United    Leicester       1.62   \n",
       "\n",
       "      draw_odds  away_odds  home_goals_ft  away_goals_ft  back_away  \\\n",
       "2495       3.20       2.55              1              2        1.0   \n",
       "2496       4.00       1.53              1              1        0.0   \n",
       "2497       3.80       1.91              0              2        1.0   \n",
       "2500       3.50       2.35              1              3        1.0   \n",
       "2503       3.80       5.50              0              1        1.0   \n",
       "2504       4.75       8.50              0              1        1.0   \n",
       "2505       3.30       3.00              1              0        0.0   \n",
       "2506       5.50       1.30              1              1        0.0   \n",
       "2508       3.50       2.70              0              2        1.0   \n",
       "2509       4.33       5.25              3              0        0.0   \n",
       "\n",
       "      predictions  profit  profit_accumulated  \n",
       "2495          1.0    1.55              311.06  \n",
       "2496          1.0   -1.00              310.06  \n",
       "2497          1.0    0.91              310.97  \n",
       "2500          1.0    1.35              312.32  \n",
       "2503          1.0    4.50              316.82  \n",
       "2504          1.0    7.50              324.32  \n",
       "2505          1.0   -1.00              323.32  \n",
       "2506          1.0   -1.00              322.32  \n",
       "2508          1.0    1.70              324.02  \n",
       "2509          1.0   -1.00              323.02  "
      ]
     },
     "execution_count": 41,
     "metadata": {},
     "output_type": "execute_result"
    }
   ],
   "source": [
    "stake = 1\n",
    "win_back = stake * (df[\"away_odds\"] - 1)\n",
    "lose_back = -stake\n",
    "\n",
    "df[\"predictions\"] = knn.predict(X)\n",
    "df.loc[(df[\"predictions\"] == 1) & (df[\"back_away\"] == 1), \"profit\"] = win_back\n",
    "df.loc[(df[\"predictions\"] == 1) & (df[\"back_away\"] == 0), \"profit\"] = lose_back\n",
    "df.loc[(df[\"predictions\"] == 0) & (df[\"back_away\"] == 1), \"profit\"] = 0\n",
    "df.loc[(df[\"predictions\"] == 0) & (df[\"back_away\"] == 0), \"profit\"] = 0\n",
    "\n",
    "df = df[df[\"predictions\"] == 1]\n",
    "df[\"profit_accumulated\"] = df[\"profit\"].cumsum()\n",
    "df.tail(10)"
   ]
  },
  {
   "attachments": {},
   "cell_type": "markdown",
   "metadata": {},
   "source": [
    "<h5>Plot Backtest</h5>"
   ]
  },
  {
   "cell_type": "code",
   "execution_count": 42,
   "metadata": {},
   "outputs": [
    {
     "data": {
      "image/png": "[encoded data removed]",
      "text/plain": [
       "<Figure size 1440x720 with 1 Axes>"
      ]
     },
     "metadata": {
      "needs_background": "light"
     },
     "output_type": "display_data"
    }
   ],
   "source": [
    "plt.figure(figsize=(20, 10))\n",
    "plt.plot(df[\"profit_accumulated\"])\n",
    "plt.xlabel(\"Quantity of games\")\n",
    "plt.ylabel(\"Value ($)\")\n",
    "plt.title(\"Backtest\")\n",
    "plt.show()"
   ]
  },
  {
   "attachments": {},
   "cell_type": "markdown",
   "metadata": {},
   "source": [
    "<h5>ROI (Return on Investment)</h5>"
   ]
  },
  {
   "cell_type": "code",
   "execution_count": 43,
   "metadata": {},
   "outputs": [
    {
     "name": "stdout",
     "output_type": "stream",
     "text": [
      "ROI: [44.6160221]\n"
     ]
    }
   ],
   "source": [
    "roi = (df[\"profit_accumulated\"].tail(1)/ len(df)) * 100\n",
    "print(f\"ROI: {roi.values}\")"
   ]
  }
 ],
 "metadata": {
  "kernelspec": {
   "display_name": "Python 3",
   "language": "python",
   "name": "python3"
  },
  "language_info": {
   "codemirror_mode": {
    "name": "ipython",
    "version": 3
   },
   "file_extension": ".py",
   "mimetype": "text/x-python",
   "name": "python",
   "nbconvert_exporter": "python",
   "pygments_lexer": "ipython3",
   "version": "3.8.10"
  },
  "orig_nbformat": 4,
  "vscode": {
   "interpreter": {
    "hash": "916dbcbb3f70747c44a77c7bcd40155683ae19c65e1c03b4aa3499c5328201f1"
   }
  }
 },
 "nbformat": 4,
 "nbformat_minor": 2
}
