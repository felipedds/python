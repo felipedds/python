{
 "cells": [
  {
   "cell_type": "markdown",
   "metadata": {},
   "source": [
    "<h4>This project is about understand relationship between RSL and RSI concern stocks of NYSE.</h4>"
   ]
  },
  {
   "cell_type": "markdown",
   "metadata": {},
   "source": [
    "<h4>Raw data</h4>\n",
    "<h6>Get the dataset of NYSE and the main stocks from Yahoo.</h6>"
   ]
  },
  {
   "cell_type": "code",
   "execution_count": null,
   "metadata": {},
   "outputs": [],
   "source": [
    "import pandas as pd\n",
    "import yfinance as yf\n",
    "import matplotlib.pyplot as plt\n",
    "import ta\n",
    "\n",
    "tickers = ['^NYA', 'BAC', 'C', 'CL', 'CVS', 'CVX', 'DIS', 'F', 'IBM', 'JNJ', 'KO', 'MMM', 'MRK', 'XOM', 'WFC']\n",
    "consolidated = pd.DataFrame()\n",
    "for ticker in tickers:\n",
    "    df = yf.Ticker(ticker).history(period='max', interval='1d', auto_adjust=True).drop(columns=['Volume', 'Dividends', 'Stock Splits']).rename(columns={'Open': 'open', 'High': 'high', 'Low': 'low', 'Close': 'close'}).round(5)\n",
    "    df[ticker] = df['close']\n",
    "    consolidated = pd.concat([consolidated, df[ticker]], axis=1)\n",
    "consolidated.dropna()"
   ]
  },
  {
   "cell_type": "markdown",
   "metadata": {},
   "source": [
    "<h4>RSL - Relative Strength to Levy</h4>"
   ]
  },
  {
   "cell_type": "code",
   "execution_count": null,
   "metadata": {},
   "outputs": [],
   "source": [
    "p = 14\n",
    "tickers = ['^NYA', 'BAC', 'C', 'CL', 'CVS', 'CVX', 'DIS', 'F', 'IBM', 'JNJ', 'KO', 'MMM', 'MRK', 'XOM', 'WFC']\n",
    "for ticker in tickers:\n",
    "    consolidated[f'RSL_{ticker}'] = (consolidated[ticker] / consolidated[ticker].rolling(window=p).mean() - 1) * 100\n",
    "consolidated.dropna()"
   ]
  },
  {
   "cell_type": "markdown",
   "metadata": {},
   "source": [
    "<h4>RSI - Relative Strength Index</h4>\n",
    "<h6>Creating the RSI 14 for each stock</h6>"
   ]
  },
  {
   "cell_type": "code",
   "execution_count": null,
   "metadata": {},
   "outputs": [],
   "source": [
    "tickers = ['^NYA', 'BAC', 'C', 'CL', 'CVS', 'CVX', 'DIS', 'F', 'IBM', 'JNJ', 'KO', 'MMM', 'MRK', 'XOM', 'WFC']\n",
    "for ticker in tickers:\n",
    "    consolidated[f'RSI_14_{ticker}'] = ta.momentum.RSIIndicator(close=consolidated[ticker], window=14, fillna=False).rsi()\n",
    "consolidated.dropna()"
   ]
  },
  {
   "cell_type": "markdown",
   "metadata": {},
   "source": [
    "<h4>Creating the a Dataframe with last register of RSL and RSI of each stock</h4>"
   ]
  },
  {
   "cell_type": "code",
   "execution_count": null,
   "metadata": {},
   "outputs": [],
   "source": [
    "mapa = pd.DataFrame(columns=['Ticker', 'RSL', 'RSI_14'])\n",
    "for ticker in tickers:\n",
    "    mapa = mapa.append({'Ticker': ticker, 'RSL': consolidated[f'RSL_{ticker}'].tail(1)[0], 'RSI_14': consolidated[f'RSI_14_{ticker}'].tail(1)[0]}, ignore_index=True)\n",
    "mapa"
   ]
  },
  {
   "cell_type": "markdown",
   "metadata": {},
   "source": [
    "<h4>Linear Relationship between every tickets</h4>"
   ]
  },
  {
   "cell_type": "code",
   "execution_count": null,
   "metadata": {},
   "outputs": [],
   "source": [
    "plt.figure(figsize=(15,12))\n",
    "plt.title('RSL x RSI 14')\n",
    "plt.xlabel('RSL')\n",
    "plt.ylabel('RSI 14')\n",
    "for ticker in tickers:\n",
    "    plt.plot(consolidated[f'RSL_{ticker}'].tail(1)[0], consolidated[f'RSI_14_{ticker}'].tail(1)[0], '.', color='red', )\n",
    "    plt.text(consolidated[f'RSL_{ticker}'].tail(1)[0], consolidated[f'RSI_14_{ticker}'].tail(1)[0], ticker, fontsize=11)\n",
    "plt.show()"
   ]
  },
  {
   "cell_type": "markdown",
   "metadata": {},
   "source": [
    "<h4>Linear relationships between RSL and RSI 14</h4>"
   ]
  },
  {
   "cell_type": "code",
   "execution_count": null,
   "metadata": {},
   "outputs": [],
   "source": [
    "for ticker in tickers:\n",
    "    plt.figure(figsize=(15,10))\n",
    "    plt.title(f'RSL x RSI 14 - {ticker}')\n",
    "    plt.xlabel('RSL')\n",
    "    plt.ylabel('RSI 14')\n",
    "    plt.plot(consolidated[f'RSL_{ticker}'], consolidated[f'RSI_14_{ticker}'], '.', color='red', )\n",
    "    plt.show()"
   ]
  }
 ],
 "metadata": {
  "interpreter": {
   "hash": "916dbcbb3f70747c44a77c7bcd40155683ae19c65e1c03b4aa3499c5328201f1"
  },
  "kernelspec": {
   "display_name": "Python 3.8.10 64-bit",
   "language": "python",
   "name": "python3"
  },
  "language_info": {
   "codemirror_mode": {
    "name": "ipython",
    "version": 3
   },
   "file_extension": ".py",
   "mimetype": "text/x-python",
   "name": "python",
   "nbconvert_exporter": "python",
   "pygments_lexer": "ipython3",
   "version": "3.8.10"
  },
  "orig_nbformat": 4
 },
 "nbformat": 4,
 "nbformat_minor": 2
}
