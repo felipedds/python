{
 "cells": [
  {
   "cell_type": "markdown",
   "metadata": {},
   "source": [
    "<h4><b>Load Libraries</b></h4>"
   ]
  },
  {
   "cell_type": "code",
   "execution_count": 25,
   "metadata": {},
   "outputs": [],
   "source": [
    "from datetime import datetime\n",
    "import matplotlib.pyplot as plt\n",
    "import numpy as np\n",
    "import pandas as pd\n",
    "from scipy.stats import norm\n",
    "import scipy.stats as st\n",
    "import warnings\n",
    "import yfinance as yf\n"
   ]
  },
  {
   "cell_type": "markdown",
   "metadata": {},
   "source": [
    "<h4><b>Import Data</b></h4>\n",
    "<p>The 1-day(daily) OHLCV data of EURUSD price is stored in a Yahoo Finance API. The data ranges from January 2004 to today.</p>"
   ]
  },
  {
   "cell_type": "code",
   "execution_count": 26,
   "metadata": {},
   "outputs": [
    {
     "name": "stdout",
     "output_type": "stream",
     "text": [
      "\n",
      " AVGO\n",
      "                  open        high         low       close       time  \\\n",
      "Date                                                                    \n",
      "2010-08-06   16.760192   16.886488   16.633896   16.782480 2010-08-06   \n",
      "2010-08-09   16.849346   17.035075   16.700762   17.012787 2010-08-09   \n",
      "2010-08-10   16.775055   16.953355   16.492747   16.567038 2010-08-10   \n",
      "2010-08-11   15.259511   15.415522   14.323435   15.029205 2010-08-11   \n",
      "2010-08-12   15.192645   15.519527   15.006916   15.162928 2010-08-12   \n",
      "...                ...         ...         ...         ...        ...   \n",
      "2022-10-19  433.230011  438.299988  430.880005  435.299988 2022-10-19   \n",
      "2022-10-20  435.130005  442.190002  428.140015  430.299988 2022-10-20   \n",
      "2022-10-21  432.089996  450.660004  429.170013  449.730011 2022-10-21   \n",
      "2022-10-24  452.730011  458.790009  451.109985  456.519989 2022-10-24   \n",
      "2022-10-25  457.989990  464.260010  456.959991  460.070007 2022-10-25   \n",
      "\n",
      "            amplitude  daily_return  hour  day  dayofweek    dayname  weekday  \\\n",
      "Date                                                                            \n",
      "2010-08-06   1.114375     -0.006597     0    6          4     Friday        4   \n",
      "2010-08-09   0.609187      0.013723     0    9          0     Monday        0   \n",
      "2010-08-10   0.542328     -0.026201     0   10          1    Tuesday        1   \n",
      "2010-08-11   2.711640     -0.092825     0   11          2  Wednesday        2   \n",
      "2010-08-12   2.629919      0.008897     0   12          3   Thursday        3   \n",
      "...               ...           ...   ...  ...        ...        ...      ...   \n",
      "2022-10-19  18.389984      0.001081     0   19          2  Wednesday        2   \n",
      "2022-10-20  20.409973     -0.011486     0   20          3   Thursday        3   \n",
      "2022-10-21  22.519989      0.045155     0   21          4     Friday        4   \n",
      "2022-10-24  30.649994      0.015098     0   24          0     Monday        0   \n",
      "2022-10-25  35.089996      0.007776     0   25          1    Tuesday        1   \n",
      "\n",
      "            dayofyear  month  mean_month  positive_negative  above_below_mean  \\\n",
      "Date                                                                            \n",
      "2010-08-06        218      8   16.338220                 -1                 1   \n",
      "2010-08-09        221      8   16.373632                  1                 1   \n",
      "2010-08-10        222      8   16.387253                 -1                 1   \n",
      "2010-08-11        223      8   16.368928                 -1                -1   \n",
      "2010-08-12        224      8   16.352831                  1                -1   \n",
      "...               ...    ...         ...                ...               ...   \n",
      "2022-10-19        292     10  469.461472                  1                -1   \n",
      "2022-10-20        293     10  466.882369                 -1                -1   \n",
      "2022-10-21        294     10  464.604835                  1                -1   \n",
      "2022-10-24        297     10  462.333480                  1                -1   \n",
      "2022-10-25        298     10  461.020416                  1                -1   \n",
      "\n",
      "            volatility  \n",
      "Date                    \n",
      "2010-08-06    0.334561  \n",
      "2010-08-09    0.334493  \n",
      "2010-08-10    0.334339  \n",
      "2010-08-11    0.346824  \n",
      "2010-08-12    0.346339  \n",
      "...                ...  \n",
      "2022-10-19    0.361373  \n",
      "2022-10-20    0.361544  \n",
      "2022-10-21    0.364265  \n",
      "2022-10-24    0.364576  \n",
      "2022-10-25    0.364427  \n",
      "\n",
      "[3077 rows x 18 columns]\n"
     ]
    }
   ],
   "source": [
    "warnings.filterwarnings('ignore')\n",
    "plt.style.use(\"ggplot\")\n",
    "pd.set_option(\"display.max_rows\", 100)\n",
    "pd.set_option(\"display.max_columns\", 50)\n",
    "\n",
    "\n",
    "class Statistics(object):\n",
    "    def __init__(self, symbol, time_frame):\n",
    "        self.symbol = symbol\n",
    "        self.time_frame = time_frame\n",
    "        self.data = self.load_data()\n",
    "\n",
    "    # Load data\n",
    "    def load_data(self):\n",
    "        ticket = yf.Ticker(f\"{self.symbol}\")\n",
    "        dataset = ticket.history(period=\"max\", interval=self.time_frame, auto_adjust=True).drop(columns=[\"Volume\", \"Dividends\", \"Stock Splits\"]).rename(\n",
    "            columns={'Open': 'open', 'High': 'high', 'Low': 'low', 'Close': 'close'})  # periods: “1d”, “5d”, “1mo”, “3mo”, “6mo”, “1y”, “2y”, “5y”, “10y”, “ytd”, “max”\n",
    "        dataset[\"time\"] = dataset.index\n",
    "        self.data = dataset\n",
    "        return pd.DataFrame(self.data)\n",
    "\n",
    "    def feature_engeering(self):\n",
    "        dataset = self.load_data()\n",
    "        dataset[\"amplitude\"] = (dataset[\"high\"].rolling(3).max() - dataset[\"low\"].rolling(3).min())\n",
    "        dataset[\"daily_return\"] = dataset[\"close\"].pct_change(periods=1)\n",
    "        dataset[\"hour\"] = dataset[\"time\"].dt.hour\n",
    "        dataset[\"day\"] = dataset[\"time\"].dt.day\n",
    "        dataset[\"dayofweek\"] = dataset[\"time\"].dt.dayofweek\n",
    "        dataset[\"dayname\"] = dataset[\"time\"].dt.day_name()\n",
    "        dataset[\"weekday\"] = dataset[\"time\"].dt.weekday\n",
    "        dataset[\"dayofyear\"] = dataset[\"time\"].dt.dayofyear # Monday=0, Sunday=6.\n",
    "        dataset[\"month\"] = dataset[\"time\"].dt.month\n",
    "        dataset[\"mean_month\"] = dataset[\"close\"].rolling(window=30).mean()\n",
    "        dataset[\"positive_negative\"] = np.select([dataset[\"daily_return\"] >= 0, dataset[\"daily_return\"] < 0], [1, -1])\n",
    "        dataset[\"above_below_mean\"] = np.select([dataset[\"close\"] > dataset[\"close\"].rolling(window=30).mean(), dataset[\"daily_return\"] < dataset[\"close\"].rolling(window=30).mean()], [1, -1])\n",
    "        dataset[\"volatility\"] = dataset[\"daily_return\"].rolling(window=252).std() * np.sqrt(252)\n",
    "        return pd.DataFrame(dataset).dropna()\n",
    "\n",
    "\n",
    "symbols = [\"AVGO\"]\n",
    "time_frames = ['1d']\n",
    "for symbol in symbols:\n",
    "    print(f'\\n {symbol}')\n",
    "    for time_frame in time_frames:\n",
    "        strategytester = Statistics(symbol, time_frame)\n",
    "        dataset = strategytester.feature_engeering()\n",
    "        print(dataset)\n"
   ]
  },
  {
   "cell_type": "markdown",
   "metadata": {},
   "source": [
    "<h4>Gaussian Distribution</h4>\n",
    "<p>A distribution of data refers to the shape it has when you graph it</p>"
   ]
  },
  {
   "cell_type": "code",
   "execution_count": 44,
   "metadata": {},
   "outputs": [
    {
     "name": "stdout",
     "output_type": "stream",
     "text": [
      "Mean: [ 16.78248024  17.01278687  16.56703758 ... 449.73001099 456.51998901\n",
      " 460.07000732], \n",
      "Var: [1. 1. 1. ... 1. 1. 1.], \n",
      "Skew: [0. 0. 0. ... 0. 0. 0.], \n",
      "Kurt: [0. 0. 0. ... 0. 0. 0.]\n"
     ]
    },
    {
     "data": {
      "image/png": "[encoded data removed]",
      "text/plain": [
       "<Figure size 1440x864 with 1 Axes>"
      ]
     },
     "metadata": {},
     "output_type": "display_data"
    }
   ],
   "source": [
    "mean, var, skew, kurt = norm.stats(dataset[\"close\"], moments='mvsk')\n",
    "print(f\"Mean: {mean}, \\nVar: {var}, \\nSkew: {skew}, \\nKurt: {kurt}\")\n",
    "\n",
    "# Representation of a kernel-density estimate using Gaussian kernels.\n",
    "kde = st.gaussian_kde(dataset[\"close\"])\n",
    "xvals = np.linspace(dataset[\"close\"].min(), dataset[\"close\"].max())\n",
    "yvals = kde(xvals)\n",
    "mode = xvals[yvals.argmax()]\n",
    "plt.figure(figsize=(20, 12))\n",
    "plt.hist(dataset[\"close\"], label=\"Close\")\n",
    "plt.plot(xvals, yvals, label=\"KDE\", color=\"g\")\n",
    "plt.axvline(x=dataset[\"close\"].mean(), color=\"b\", label=\"Mean\")\n",
    "plt.legend()\n",
    "plt.show()"
   ]
  }
 ],
 "metadata": {
  "kernelspec": {
   "display_name": "Python 3.8.10 64-bit",
   "language": "python",
   "name": "python3"
  },
  "language_info": {
   "codemirror_mode": {
    "name": "ipython",
    "version": 3
   },
   "file_extension": ".py",
   "mimetype": "text/x-python",
   "name": "python",
   "nbconvert_exporter": "python",
   "pygments_lexer": "ipython3",
   "version": "3.8.10"
  },
  "orig_nbformat": 4,
  "vscode": {
   "interpreter": {
    "hash": "916dbcbb3f70747c44a77c7bcd40155683ae19c65e1c03b4aa3499c5328201f1"
   }
  }
 },
 "nbformat": 4,
 "nbformat_minor": 2
}
