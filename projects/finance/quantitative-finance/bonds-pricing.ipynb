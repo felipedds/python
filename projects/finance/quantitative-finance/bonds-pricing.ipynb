{
 "cells": [
  {
   "cell_type": "markdown",
   "metadata": {},
   "source": [
    "### Zero-CouponBonds\n",
    "\n",
    "###### The price of a zero-coupon bond can be calculated as:\n",
    "- M = Maturity value or face value of the bond\n",
    "- r = required interest rate\n",
    "- N = duration of years until maturity\n",
    "\n",
    "$Price = M ÷ (1 + r)^n$"
   ]
  },
  {
   "cell_type": "code",
   "execution_count": 2,
   "metadata": {},
   "outputs": [
    {
     "name": "stdout",
     "output_type": "stream",
     "text": [
      "Price of the bond: 1070.6306239277335\n"
     ]
    }
   ],
   "source": [
    "class ZeroCouponBonds:\n",
    "    def __init__(self, principal, rate, maturity, interest_rate):\n",
    "        self.principal = principal\n",
    "        self.rate = rate / 100\n",
    "        self.maturity = maturity\n",
    "        self.interest_rate = interest_rate / 100\n",
    "\n",
    "    def present_value(self, m, n):\n",
    "        return m / (1 + self.interest_rate) ** n\n",
    "    \n",
    "    def calculate_price(self):\n",
    "        price = 0\n",
    "\n",
    "        # discount the cupon payments\n",
    "        for t in (1, self.maturity + 1):\n",
    "            price = price + self.present_value(self.principal * self.rate, t)\n",
    "        \n",
    "        # discount principle amount\n",
    "        price = price + self.present_value(self.principal, self.maturity)\n",
    "        return price\n",
    "\n",
    "bond = ZeroCouponBonds(1000, 10, 3, 4) # principal, rate, maturity, interest_rate\n",
    "print(f\"Price of the bond: {bond.calculate_price()}\")\n"
   ]
  }
 ],
 "metadata": {
  "kernelspec": {
   "display_name": "Python 3.8.10 64-bit",
   "language": "python",
   "name": "python3"
  },
  "language_info": {
   "codemirror_mode": {
    "name": "ipython",
    "version": 3
   },
   "file_extension": ".py",
   "mimetype": "text/x-python",
   "name": "python",
   "nbconvert_exporter": "python",
   "pygments_lexer": "ipython3",
   "version": "3.8.10"
  },
  "orig_nbformat": 4,
  "vscode": {
   "interpreter": {
    "hash": "31f2aee4e71d21fbe5cf8b01ff0e069b9275f58929596ceb00d14d90e3e16cd6"
   }
  }
 },
 "nbformat": 4,
 "nbformat_minor": 2
}
