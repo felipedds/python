{
 "cells": [
  {
   "cell_type": "markdown",
   "metadata": {},
   "source": [
    "### Time value of money\n",
    "- PV = present value of the investment\n",
    "- FV = future value of the investment \n",
    "- N = duration (year, month or day)\n",
    "- r = rate of interest per period\n",
    "###### The expression for the future value of amount PV is:\n",
    "$FV_N = PV(1+r)^N$\n"
   ]
  },
  {
   "cell_type": "code",
   "execution_count": 3,
   "metadata": {},
   "outputs": [
    {
     "name": "stdout",
     "output_type": "stream",
     "text": [
      "2995.992212091116\n"
     ]
    }
   ],
   "source": [
    "def future_value(pv: float, r: float, n: int) -> float:\n",
    "    fv = pv * (1 + r) ** n\n",
    "    return fv\n",
    "\n",
    "# value of investiment in dollars\n",
    "pv = 100.00\n",
    "\n",
    "# rate of interest per period\n",
    "r = 0.12\n",
    "\n",
    "# duration (year)\n",
    "n = 30\n",
    "print(future_value(pv, r, n))\n"
   ]
  }
 ],
 "metadata": {
  "kernelspec": {
   "display_name": "Python 3.8.10 64-bit ('venv': venv)",
   "language": "python",
   "name": "python3"
  },
  "language_info": {
   "codemirror_mode": {
    "name": "ipython",
    "version": 3
   },
   "file_extension": ".py",
   "mimetype": "text/x-python",
   "name": "python",
   "nbconvert_exporter": "python",
   "pygments_lexer": "ipython3",
   "version": "3.8.10"
  },
  "orig_nbformat": 4,
  "vscode": {
   "interpreter": {
    "hash": "725d5c4629a663bfd585bebfe04fe3e25572940a8a80e042ea861df60ee30dd2"
   }
  }
 },
 "nbformat": 4,
 "nbformat_minor": 2
}
